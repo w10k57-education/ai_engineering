{
 "cells": [
  {
   "cell_type": "code",
   "execution_count": 1,
   "metadata": {},
   "outputs": [],
   "source": [
    "import os\n",
    "from typing import List\n",
    "from pydantic import BaseModel, Field\n",
    "from pprint import pprint\n",
    "import instructor\n",
    "\n",
    "from dotenv import load_dotenv\n",
    "from openai import OpenAI\n",
    "\n",
    "# Load env variables\n",
    "load_dotenv()\n",
    "\n",
    "# Define clients\n",
    "groq = OpenAI(\n",
    "    base_url=\"https://api.groq.com/openai/v1\",\n",
    "    api_key=os.environ.get(\"GROQ_API_KEY\")\n",
    ")"
   ]
  },
  {
   "cell_type": "code",
   "execution_count": 2,
   "metadata": {},
   "outputs": [],
   "source": [
    "# The task will be to extract a list of names from the given text\n",
    "text = \"\"\"John Smith is a software engineer who works with Sarah Johnson and Mike Brown. \n",
    "They often collaborate with Emily Chen, David Martinez, and Lisa Wong on various projects.\n",
    "\"\"\""
   ]
  },
  {
   "cell_type": "code",
   "execution_count": 3,
   "metadata": {},
   "outputs": [],
   "source": [
    "# 1. Define the model\n",
    "class NameExtractor(BaseModel):\n",
    "    names: List[str]\n",
    "\n",
    "patched_client = instructor.from_openai(groq)\n",
    "\n",
    "structured_response = patched_client.chat.completions.create(\n",
    "    model=\"llama-3.3-70b-versatile\",\n",
    "    messages=[\n",
    "        {\"role\": \"user\", \"content\": text}\n",
    "    ],\n",
    "    response_model=NameExtractor\n",
    ")"
   ]
  },
  {
   "cell_type": "code",
   "execution_count": 4,
   "metadata": {},
   "outputs": [
    {
     "data": {
      "text/plain": [
       "{'names': ['John Smith',\n",
       "  'Sarah Johnson',\n",
       "  'Mike Brown',\n",
       "  'Emily Chen',\n",
       "  'David Martinez',\n",
       "  'Lisa Wong']}"
      ]
     },
     "execution_count": 4,
     "metadata": {},
     "output_type": "execute_result"
    }
   ],
   "source": [
    "structured_response.model_dump()"
   ]
  },
  {
   "cell_type": "code",
   "execution_count": 5,
   "metadata": {},
   "outputs": [
    {
     "name": "stdout",
     "output_type": "stream",
     "text": [
      "{'tool': 'SEARCH', 'value': 'weather today'}\n"
     ]
    }
   ],
   "source": [
    "system_message = \"your task is to select the tool based on the user query. YOU ONLY DECIDE ABOUT THE TOOL TO USE. You can select the following: ANSWER, to directly answer the question and then show the answer as the value or SEARCH, to perform web search, and then show keywords\"\n",
    "user_message = \"What is the weather today?\"\n",
    "\n",
    "class ResponseModel(BaseModel):\n",
    "    tool: str = Field(description=\"The tool to use\")\n",
    "    value: str = Field(description=\"The variables to use\")\n",
    "\n",
    "structured_response = patched_client.chat.completions.create(\n",
    "    model=\"llama-3.3-70b-versatile\",\n",
    "    messages=[\n",
    "        {\"role\": \"system\", \"content\": system_message},\n",
    "        {\"role\": \"user\", \"content\": user_message}\n",
    "    ],\n",
    "    response_model=ResponseModel\n",
    ")\n",
    "\n",
    "output_variables = structured_response.model_dump()\n",
    "\n",
    "pprint(output_variables)"
   ]
  },
  {
   "cell_type": "code",
   "execution_count": 6,
   "metadata": {},
   "outputs": [
    {
     "name": "stdout",
     "output_type": "stream",
     "text": [
      "Performing a web search for weather today...\n"
     ]
    }
   ],
   "source": [
    "def web_search(keywords: str):\n",
    "    # Perform a web search\n",
    "    print(f\"Performing a web search for {keywords}...\")\n",
    "\n",
    "tool = output_variables[\"tool\"]\n",
    "\n",
    "if tool == \"SEARCH\":\n",
    "    web_search(output_variables[\"value\"])"
   ]
  }
 ],
 "metadata": {
  "kernelspec": {
   "display_name": "aieng_py310",
   "language": "python",
   "name": "python3"
  },
  "language_info": {
   "codemirror_mode": {
    "name": "ipython",
    "version": 3
   },
   "file_extension": ".py",
   "mimetype": "text/x-python",
   "name": "python",
   "nbconvert_exporter": "python",
   "pygments_lexer": "ipython3",
   "version": "3.10.16"
  }
 },
 "nbformat": 4,
 "nbformat_minor": 2
}
